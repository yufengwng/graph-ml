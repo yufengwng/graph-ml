{
 "cells": [
  {
   "cell_type": "markdown",
   "metadata": {},
   "source": [
    "## PyTorch GCN with CORA dataset"
   ]
  },
  {
   "cell_type": "code",
   "execution_count": null,
   "metadata": {},
   "outputs": [],
   "source": [
    "import torch\n",
    "import pytorch_gcn as gcn\n",
    "import matplotlib.pyplot as plt\n",
    "import pandas as pd\n",
    "\n",
    "from torch import nn\n",
    "from pprint import pprint"
   ]
  },
  {
   "cell_type": "code",
   "execution_count": null,
   "metadata": {},
   "outputs": [],
   "source": [
    "df_nodes = pd.read_csv('data/cora-nodes.csv')\n",
    "df_edges = pd.read_csv('data/cora-edges.csv')\n",
    "df_labels = pd.read_csv('data/cora-labels.csv')"
   ]
  },
  {
   "cell_type": "markdown",
   "metadata": {},
   "source": [
    "### Setup nodes"
   ]
  },
  {
   "cell_type": "code",
   "execution_count": null,
   "metadata": {},
   "outputs": [],
   "source": [
    "df_nodes = df_nodes.sort_values('paper_id')\n",
    "df_nodes"
   ]
  },
  {
   "cell_type": "code",
   "execution_count": null,
   "metadata": {},
   "outputs": [],
   "source": [
    "nodes = df_nodes.iloc[:,1:].to_numpy()\n",
    "nodes = torch.from_numpy(nodes).type(torch.float)\n",
    "num_nodes = nodes.shape[0]\n",
    "\n",
    "print(f\"nodes: {nodes.shape}\")\n",
    "print(nodes)"
   ]
  },
  {
   "cell_type": "markdown",
   "metadata": {},
   "source": [
    "### Setup edges"
   ]
  },
  {
   "cell_type": "code",
   "execution_count": null,
   "metadata": {},
   "outputs": [],
   "source": [
    "df_edges"
   ]
  },
  {
   "cell_type": "code",
   "execution_count": null,
   "metadata": {},
   "outputs": [],
   "source": [
    "adj = torch.zeros(num_nodes, num_nodes)\n",
    "for row in df_edges.itertuples():\n",
    "    src_id = row.citing_paper_id\n",
    "    dst_id = row.cited_paper_id\n",
    "    src_idx = df_nodes.index[df_nodes['paper_id'] == src_id].item()\n",
    "    dst_idx = df_nodes.index[df_nodes['paper_id'] == dst_id].item()\n",
    "    # using undirected edges\n",
    "    adj[src_idx][dst_idx] = 1\n",
    "    adj[dst_idx][src_idx] = 1\n",
    "\n",
    "print(f\"adjacency: {adj.shape}\")\n",
    "print(adj)"
   ]
  },
  {
   "cell_type": "markdown",
   "metadata": {},
   "source": [
    "### Setup labels"
   ]
  },
  {
   "cell_type": "code",
   "execution_count": null,
   "metadata": {},
   "outputs": [],
   "source": [
    "label_mapping = sorted(df_labels['class_label'].unique())\n",
    "label_mapping = {name: i for i, name in enumerate(label_mapping)}\n",
    "label_mapping"
   ]
  },
  {
   "cell_type": "code",
   "execution_count": null,
   "metadata": {},
   "outputs": [],
   "source": [
    "num_classes = len(label_mapping)\n",
    "labels = torch.zeros(num_nodes).type(torch.long)\n",
    "for row in df_labels.itertuples():\n",
    "    paper_id = row.paper_id\n",
    "    node_id = df_nodes.index[df_nodes['paper_id'] == paper_id].item()\n",
    "    label_id = label_mapping[row.class_label]\n",
    "    labels[node_id] = label_id\n",
    "\n",
    "print(f\"labels: {labels.shape}\")\n",
    "print(labels[:15], '...')"
   ]
  },
  {
   "cell_type": "markdown",
   "metadata": {},
   "source": [
    "### Attempt to visualize graph"
   ]
  },
  {
   "cell_type": "code",
   "execution_count": null,
   "metadata": {},
   "outputs": [],
   "source": [
    "def plot_graph(adj, points, labels):\n",
    "    for u, row in enumerate(adj):\n",
    "        for v, connected in enumerate(row):\n",
    "            if connected == 0:\n",
    "                continue\n",
    "            point_u = points[u]\n",
    "            point_v = points[v]\n",
    "            xs = [point_u[0], point_v[0]]\n",
    "            ys = [point_u[1], point_v[1]]\n",
    "            plt.plot(xs, ys, linewidth=1, c='gray')\n",
    "    num_nodes = adj.shape[0]\n",
    "    area = (torch.zeros(num_nodes) + 10) ** 2\n",
    "    xs = points[:,0]\n",
    "    ys = points[:,1]\n",
    "    plt.scatter(xs, ys, s=area, c=labels)\n",
    "    plt.show()\n",
    "\n",
    "points = torch.rand(num_nodes, 2)\n",
    "print(f\"points:\\n{points}\")\n",
    "\n",
    "plot_graph(adj[:25,:25], points[:25,:], labels[:25])"
   ]
  },
  {
   "cell_type": "markdown",
   "metadata": {},
   "source": [
    "### Setup model"
   ]
  },
  {
   "cell_type": "code",
   "execution_count": null,
   "metadata": {},
   "outputs": [],
   "source": [
    "in_features = nodes.shape[1]\n",
    "model = gcn.GraphConvNet(adj, 2, in_features, num_classes)\n",
    "model"
   ]
  },
  {
   "cell_type": "markdown",
   "metadata": {},
   "source": [
    "### Try a single feed forward"
   ]
  },
  {
   "cell_type": "code",
   "execution_count": null,
   "metadata": {},
   "outputs": [],
   "source": [
    "logits = model(nodes)\n",
    "print(f\"logits: {logits.shape}\")\n",
    "print(logits)\n",
    "\n",
    "softmax = nn.Softmax(dim=1)\n",
    "probs = softmax(logits)\n",
    "print(f\"probabilities: {probs.shape}\")\n",
    "print(probs)\n",
    "\n",
    "y_pred = probs.argmax(dim=1)\n",
    "correct = (y_pred == labels).type(torch.float).sum().item()\n",
    "accuracy = (correct / num_nodes) * 100\n",
    "print(f\"y_predicted: {y_pred[:15]}\")\n",
    "print(f\"true_labels: {labels[:15]}\")\n",
    "print(f\"accuracy: {accuracy:>0.1f}%\")\n",
    "\n",
    "plot_graph(adj[:25,:25], logits.detach().numpy()[:25,:], y_pred[:25])"
   ]
  },
  {
   "cell_type": "markdown",
   "metadata": {},
   "source": [
    "### Training"
   ]
  },
  {
   "cell_type": "code",
   "execution_count": null,
   "metadata": {},
   "outputs": [],
   "source": [
    "batch_size = num_nodes\n",
    "learning_rate = 0.01\n",
    "epochs = 200\n",
    "\n",
    "loss_fn = nn.CrossEntropyLoss()\n",
    "optimizer = torch.optim.Adam(model.parameters(), lr=learning_rate)"
   ]
  },
  {
   "cell_type": "code",
   "execution_count": null,
   "metadata": {},
   "outputs": [],
   "source": [
    "for i in range(epochs):\n",
    "    print(f\"Epoch {i+1:<3} ------\")\n",
    "    gcn.train(nodes, labels, model, loss_fn, optimizer)\n",
    "    gcn.evaluate(nodes, labels, model)\n",
    "    print()\n",
    "print(\"done\")"
   ]
  },
  {
   "cell_type": "code",
   "execution_count": null,
   "metadata": {},
   "outputs": [],
   "source": [
    "logits = model(nodes)\n",
    "y_pred = softmax(logits).argmax(dim=1)\n",
    "plot_graph(adj[:25,:25], logits.detach().numpy()[:25,:], y_pred[:25])"
   ]
  }
 ],
 "metadata": {
  "interpreter": {
   "hash": "ed4ff6a791b2b74dc5e30429872396169c8df384eb9d676716f94a75d020bb48"
  },
  "kernelspec": {
   "display_name": "Python 3.9.7 64-bit ('gcn': conda)",
   "name": "python3"
  },
  "language_info": {
   "codemirror_mode": {
    "name": "ipython",
    "version": 3
   },
   "file_extension": ".py",
   "mimetype": "text/x-python",
   "name": "python",
   "nbconvert_exporter": "python",
   "pygments_lexer": "ipython3",
   "version": "3.9.7"
  },
  "orig_nbformat": 4
 },
 "nbformat": 4,
 "nbformat_minor": 2
}
