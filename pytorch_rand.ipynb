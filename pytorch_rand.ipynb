{
 "cells": [
  {
   "cell_type": "markdown",
   "metadata": {},
   "source": [
    "## GCN (PyTorch) with random graphs"
   ]
  },
  {
   "cell_type": "code",
   "execution_count": null,
   "metadata": {},
   "outputs": [],
   "source": [
    "import torch\n",
    "import pytorch_gcn as gcn\n",
    "import matplotlib.pyplot as plt\n",
    "\n",
    "from torch import nn\n",
    "from pprint import pprint"
   ]
  },
  {
   "cell_type": "code",
   "execution_count": null,
   "metadata": {},
   "outputs": [],
   "source": [
    "# torch.manual_seed(19870314)"
   ]
  },
  {
   "cell_type": "markdown",
   "metadata": {},
   "source": [
    "### Generate a random graph"
   ]
  },
  {
   "cell_type": "code",
   "execution_count": null,
   "metadata": {},
   "outputs": [],
   "source": [
    "num_nodes = 16\n",
    "edges = []\n",
    "\n",
    "degrees = torch.randint(1, 3, (num_nodes,))\n",
    "for v, num_neighbors in enumerate(degrees):\n",
    "    for u in torch.randint(0, num_nodes, (num_neighbors,)):\n",
    "        if v == u:\n",
    "            continue\n",
    "        edges.append((v, u.item()))\n",
    "\n",
    "print(f\"nodes: {num_nodes} {list(range(num_nodes))}\")\n",
    "print(f\"edges: {len(edges)} {edges}\")"
   ]
  },
  {
   "cell_type": "markdown",
   "metadata": {},
   "source": [
    "### Build adjacency matrix"
   ]
  },
  {
   "cell_type": "code",
   "execution_count": null,
   "metadata": {},
   "outputs": [],
   "source": [
    "adj = torch.zeros(num_nodes, num_nodes)\n",
    "for v, u in edges:\n",
    "    # undirected edges\n",
    "    adj[v][u] = 1\n",
    "    adj[u][v] = 1\n",
    "\n",
    "print(f\"adjacency: {adj.shape}\")\n",
    "print(adj)"
   ]
  },
  {
   "cell_type": "markdown",
   "metadata": {},
   "source": [
    "### Assign ground truth labels"
   ]
  },
  {
   "cell_type": "code",
   "execution_count": null,
   "metadata": {},
   "outputs": [],
   "source": [
    "num_classes = 3\n",
    "labels = torch.randint(0, num_classes, (num_nodes,))\n",
    "print(f\"labels: {labels}\")"
   ]
  },
  {
   "cell_type": "markdown",
   "metadata": {},
   "source": [
    "### Plot as points to visualize"
   ]
  },
  {
   "cell_type": "code",
   "execution_count": null,
   "metadata": {},
   "outputs": [],
   "source": [
    "def plot_graph(adj, points, labels):\n",
    "    for u, row in enumerate(adj):\n",
    "        for v, connected in enumerate(row):\n",
    "            if connected == 0:\n",
    "                continue\n",
    "            point_u = points[u]\n",
    "            point_v = points[v]\n",
    "            xs = [point_u[0], point_v[0]]\n",
    "            ys = [point_u[1], point_v[1]]\n",
    "            plt.plot(xs, ys, linewidth=1, c='gray')\n",
    "    num_nodes = adj.shape[0]\n",
    "    area = (torch.zeros(num_nodes) + 10) ** 2\n",
    "    xs = points[:,0]\n",
    "    ys = points[:,1]\n",
    "    plt.scatter(xs, ys, s=area, c=labels)\n",
    "    plt.show()"
   ]
  },
  {
   "cell_type": "code",
   "execution_count": null,
   "metadata": {},
   "outputs": [],
   "source": [
    "points = torch.rand(num_nodes, 2)\n",
    "print(f\"points:\\n{points}\")"
   ]
  },
  {
   "cell_type": "code",
   "execution_count": null,
   "metadata": {},
   "outputs": [],
   "source": [
    "plot_graph(adj, points, labels)"
   ]
  },
  {
   "cell_type": "markdown",
   "metadata": {},
   "source": [
    "### Setup GCN model"
   ]
  },
  {
   "cell_type": "code",
   "execution_count": null,
   "metadata": {},
   "outputs": [],
   "source": [
    "model = gcn.GraphConvNet(adj, 2, num_nodes, num_classes)\n",
    "model"
   ]
  },
  {
   "cell_type": "markdown",
   "metadata": {},
   "source": [
    "### Setup inputs nodes with no features"
   ]
  },
  {
   "cell_type": "code",
   "execution_count": null,
   "metadata": {},
   "outputs": [],
   "source": [
    "X = torch.eye(num_nodes)\n",
    "# print(X)\n",
    "print(X.shape)"
   ]
  },
  {
   "cell_type": "markdown",
   "metadata": {},
   "source": [
    "### Feed inputs foward in model"
   ]
  },
  {
   "cell_type": "code",
   "execution_count": null,
   "metadata": {},
   "outputs": [],
   "source": [
    "logits = model(X)\n",
    "print(logits)\n",
    "print(logits.shape)"
   ]
  },
  {
   "cell_type": "markdown",
   "metadata": {},
   "source": [
    "### Classify the nodes"
   ]
  },
  {
   "cell_type": "code",
   "execution_count": null,
   "metadata": {},
   "outputs": [],
   "source": [
    "softmax = nn.Softmax(dim=1)\n",
    "probs = softmax(logits)\n",
    "print(probs)\n",
    "print(probs.shape)"
   ]
  },
  {
   "cell_type": "markdown",
   "metadata": {},
   "source": [
    "### Check against ground truth"
   ]
  },
  {
   "cell_type": "code",
   "execution_count": null,
   "metadata": {},
   "outputs": [],
   "source": [
    "y_pred = probs.argmax(dim=1)\n",
    "correct = (y_pred == labels).type(torch.float).sum().item()\n",
    "accuracy = (correct / num_nodes) * 100\n",
    "\n",
    "print(f\"y_predicted: {y_pred}\")\n",
    "print(f\"true_labels: {labels}\")\n",
    "print(f\"accuracy: {accuracy:>0.1f}%\")"
   ]
  },
  {
   "cell_type": "markdown",
   "metadata": {},
   "source": [
    "### Try to plot it"
   ]
  },
  {
   "cell_type": "code",
   "execution_count": null,
   "metadata": {},
   "outputs": [],
   "source": [
    "plot_graph(adj, logits.detach().numpy(), y_pred)"
   ]
  },
  {
   "cell_type": "markdown",
   "metadata": {},
   "source": [
    "### Let's do some training"
   ]
  },
  {
   "cell_type": "code",
   "execution_count": null,
   "metadata": {},
   "outputs": [],
   "source": [
    "batch_size = num_nodes\n",
    "learning_rate = 0.01\n",
    "epochs = 200"
   ]
  },
  {
   "cell_type": "code",
   "execution_count": null,
   "metadata": {},
   "outputs": [],
   "source": [
    "loss_fn = nn.CrossEntropyLoss()\n",
    "optimizer = torch.optim.Adam(model.parameters(), lr=learning_rate)"
   ]
  },
  {
   "cell_type": "code",
   "execution_count": null,
   "metadata": {},
   "outputs": [],
   "source": [
    "for i in range(epochs):\n",
    "    print(f\"Epoch {i+1:<3} ------\")\n",
    "    gcn.train(X, labels, model, loss_fn, optimizer)\n",
    "    gcn.evaluate(X, labels, model)\n",
    "    print()\n",
    "print(\"done\")"
   ]
  },
  {
   "cell_type": "markdown",
   "metadata": {},
   "source": [
    "### Now try visualizing it"
   ]
  },
  {
   "cell_type": "code",
   "execution_count": null,
   "metadata": {},
   "outputs": [],
   "source": [
    "logits = model(X)\n",
    "y_pred = softmax(logits).argmax(dim=1)\n",
    "\n",
    "plot_graph(adj, logits.detach().numpy(), y_pred)"
   ]
  }
 ],
 "metadata": {
  "interpreter": {
   "hash": "ed4ff6a791b2b74dc5e30429872396169c8df384eb9d676716f94a75d020bb48"
  },
  "kernelspec": {
   "display_name": "Python 3.9.7 64-bit ('gcn': conda)",
   "name": "python3"
  },
  "language_info": {
   "codemirror_mode": {
    "name": "ipython",
    "version": 3
   },
   "file_extension": ".py",
   "mimetype": "text/x-python",
   "name": "python",
   "nbconvert_exporter": "python",
   "pygments_lexer": "ipython3",
   "version": "3.9.7"
  },
  "orig_nbformat": 4
 },
 "nbformat": 4,
 "nbformat_minor": 2
}
